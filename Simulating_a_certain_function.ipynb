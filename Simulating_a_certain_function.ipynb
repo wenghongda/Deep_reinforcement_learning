{
 "cells": [
  {
   "cell_type": "code",
   "execution_count": 14,
   "id": "0459d3c4",
   "metadata": {},
   "outputs": [
    {
     "name": "stdout",
     "output_type": "stream",
     "text": [
      "第1000个epoch的损失为0.0009787189774215221"
     ]
    }
   ],
   "source": [
    "from numpy.core.function_base import linspace\n",
    "import torch\n",
    "import numpy as np \n",
    "from torch import nn, optim\n",
    "import torch.nn.functional as F\n",
    "import threading\n",
    "from torch.utils.data import Dataset, DataLoader\n",
    "from torch.utils.tensorboard import SummaryWriter\n",
    "xx = linspace(0, 2, 3000)\n",
    "class Data(Dataset):\n",
    "    def __init__(self):\n",
    "        super(Data, self).__init__()\n",
    "        self.id = 2\n",
    "        self.x = linspace(0, 3.14, 3000)\n",
    "        self.y = []\n",
    "        for i in self.x:\n",
    "            if self.id ==0 :\n",
    "                # step function\n",
    "                if i <=1:\n",
    "                    self.y.append(0)\n",
    "                else:\n",
    "                    self.y.append(1)\n",
    "            elif self.id == 1:\n",
    "                # square wave function\n",
    "                if i <=0.5 or i >= 1.5:\n",
    "                    self.y.append(0)\n",
    "                else:\n",
    "                    self.y.append(1)\n",
    "            elif self.id == 2:\n",
    "                # sin(x^2) function\n",
    "                self.y = np.sin(self.x*2)\n",
    "                self.y = np.sin(self.x*2)\n",
    "            \n",
    "    def __len__(self):\n",
    "        return len(self.x)\n",
    "    def __getitem__(self, index):\n",
    "        x = self.x[index]\n",
    "        y = self.y[index]\n",
    "        x = torch.tensor(x).unsqueeze(dim=0).float()\n",
    "        y = torch.tensor(y).unsqueeze(dim=0).float()\n",
    "        return x, y\n",
    "\n",
    "train = Data()\n",
    "train_data = DataLoader(train, batch_size=3000, shuffle=False)\n",
    "\n",
    "class Net(nn.Module):\n",
    "    def __init__(self):\n",
    "        super(Net, self).__init__()\n",
    "        self.fc1 = nn.Linear(1, 10)\n",
    "        self.fc2 = nn.Linear(10, 100)\n",
    "        self.fc3 = nn.Linear(100, 50)\n",
    "        self.fc4 = nn.Linear(50, 1)\n",
    "    def forward(self, x):\n",
    "        x = F.relu(self.fc1(x))\n",
    "        x = self.fc2(x)\n",
    "        x = F.relu(self.fc3(x))\n",
    "        x = self.fc4(x)\n",
    "        return x\n",
    "\n",
    "net = Net()\n",
    "optimizer = optim.Adam(net.parameters(), lr=0.001)\n",
    "loss_fn = nn.MSELoss()\n",
    "xx, yy, y_pred = None, None, None\n",
    "\n",
    "def train():\n",
    "    global xx, yy, y_pred\n",
    "    for epoch in range(1000):\n",
    "        for x, y in train_data:\n",
    "            xx = x\n",
    "            yy = y\n",
    "            y_pred = net(x)\n",
    "            loss = loss_fn(y_pred, y)\n",
    "            if (epoch+1) % 50 ==0:\n",
    "                print(f\"\\r第{epoch + 1}个epoch的损失为{loss.item()}\", end=\"\")\n",
    "            optimizer.zero_grad()\n",
    "            loss.backward()\n",
    "            optimizer.step()\n",
    "train()"
   ]
  },
  {
   "cell_type": "code",
   "execution_count": 11,
   "id": "e0cb0a30",
   "metadata": {},
   "outputs": [],
   "source": [
    "a = torch.tensor([0],dtype = torch.float32)\n",
    "net(a)"
   ]
  },
  {
   "cell_type": "code",
   "execution_count": null,
   "id": "4e3796c7",
   "metadata": {},
   "outputs": [],
   "source": []
  }
 ],
 "metadata": {
  "kernelspec": {
   "display_name": "Python 3 (ipykernel)",
   "language": "python",
   "name": "python3"
  },
  "language_info": {
   "codemirror_mode": {
    "name": "ipython",
    "version": 3
   },
   "file_extension": ".py",
   "mimetype": "text/x-python",
   "name": "python",
   "nbconvert_exporter": "python",
   "pygments_lexer": "ipython3",
   "version": "3.10.9"
  }
 },
 "nbformat": 4,
 "nbformat_minor": 5
}
